{
 "cells": [
  {
   "cell_type": "code",
   "execution_count": 14,
   "id": "7d4eaaa3-0675-4f2f-901a-eaf4b4c65e9c",
   "metadata": {},
   "outputs": [
    {
     "data": {
      "text/plain": [
       "False"
      ]
     },
     "execution_count": 14,
     "metadata": {},
     "output_type": "execute_result"
    }
   ],
   "source": [
    "import json \n",
    "from dotenv import load_dotenv\n",
    "load_dotenv()"
   ]
  },
  {
   "cell_type": "code",
   "execution_count": 30,
   "id": "eb3f9257-9341-4562-b309-1b7793a0274d",
   "metadata": {},
   "outputs": [
    {
     "name": "stderr",
     "output_type": "stream",
     "text": [
      "C:\\Users\\akash\\AppData\\Local\\Temp\\ipykernel_5540\\2295145831.py:12: PydanticDeprecatedSince20: Pydantic V1 style `@validator` validators are deprecated. You should migrate to Pydantic V2 style `@field_validator` validators, see the migration guide for more details. Deprecated in Pydantic V2.0 to be removed in V3.0. See Pydantic V2 Migration Guide at https://errors.pydantic.dev/2.10/migration/\n",
      "  @validator('summary', allow_reuse=True)\n"
     ]
    }
   ],
   "source": [
    "from langchain.output_parsers import PydanticOutputParser\n",
    "from pydantic import validator\n",
    "from pydantic import BaseModel, Field\n",
    "from typing import List\n",
    "\n",
    "# create output parser class\n",
    "class ArticleSummary(BaseModel):\n",
    "    title: str = Field(description=\"Title of the article\")\n",
    "    summary: List[str] = Field(description=\"Bulleted list summary of the article\")\n",
    "\n",
    "    # validating whether the generated summary has at least three lines\n",
    "    @validator('summary', allow_reuse=True)\n",
    "    def has_three_or_more_lines(cls, list_of_lines):\n",
    "        if len(list_of_lines) < 3:\n",
    "            raise ValueError(\"Generated summary has less than three bullet points!\")\n",
    "        return list_of_lines\n",
    "\n",
    "# set up output parser\n",
    "parser = PydanticOutputParser(pydantic_object=ArticleSummary)"
   ]
  },
  {
   "cell_type": "code",
   "execution_count": 31,
   "id": "0f42ad80-098d-4302-ab2b-49129dd921b1",
   "metadata": {},
   "outputs": [
    {
     "name": "stdout",
     "output_type": "stream",
     "text": [
      "Title: Nvidia and Microsoft shares steady after DeepSeek AI app shock\n",
      "Text: US tech stocks steady after DeepSeek AI app shock\n",
      "\n",
      "5 hours ago Peter Hoskins & Charlotte Edwards Business reporters, BBC News\n",
      "\n",
      "Getty Images\n",
      "\n",
      "US tech stocks were steady on Tuesday after they slumped on Monday following the sudden rise of Chinese-made artificial intelligence (AI) app DeepSeek. Shares in chip giant Nvidia were up over 6% by mid-day trade having sank on Monday, as experts said the US AI sell-off may have been an over-reaction. The market hit came as investors rapidly adjusted bets on AI, after DeepSeek's claim that its model was made at a fraction of the cost of those of its rivals. Analysts said the development raised questions about the future of America's AI dominance and the scale of investments US firms are planning.\n",
      "\n",
      "US President Donald Trump described the moment as \"a wake-up call\" for the US tech industry, while also suggesting that it could ultimately prove \" a positive\" for the US. \"If you could do it cheaper, if you could do it [for] less [and] get to the same end result. I think that's a good thing for us,\" he told reporters on board Air Force One. He also said he was not concerned about the breakthrough, adding the US will remain a dominant player in the field. Optimism about AI investments has powered much of the boom in US stock markets over the last two years, raising fears of a possible bubble. DeepSeek has become the most downloaded free app in the US just a week after it was launched. Its emergence comes as the US has been warning of a tech race with China, and taking steps to restrict the sale of the advanced chip technology that powers AI to China. To continue their work without steady supplies of imported advanced chips, Chinese AI developers have shared their work with each other and experimented with new approaches to the technology. This has resulted in AI models that require far less computing power than before. It also means that they cost a lot less than previously thought possible, which has the potential to upend the industry. Nvidia - the company behind the high-tech chips that dominate many AI investments, that had seen its share price surge in the last two years due to growing demand - was the hardest hit on Monday. Its share price dropped by roughly 17% on Monday, wiping roughly $600bn off its market value. Janet Mui, head of market analysis at RBC Brewin Dolphin, said investors' first response to something that appears groundbreaking is to sell because of the uncertainty. But she said she expected many companies, like Apple, to benefit if the cost of AI models becomes becomes cheaper. It could also be a boon for other tech giants, which have faced scrutiny for their high spending on AI so far.\n",
      "\n",
      "Trump: DeepSeek AI release should be 'wake-up call' for US\n",
      "\n",
      "Following the shock to markets in the US on Monday, the main indexes were steady. As of mid-day trading in New York, the Dow Jones was roughly flat, the S&P was up about 0.8% and the tech-heavy Nasdaq had risen 1.7%. The FTSE 100 stock index of the UK's biggest publicly-listed companies was also steady on Tuesday, closing 0.35% higher. Earlier shares in Japanese AI-related firms including Advantest, Softbank and Tokyo Electron fell sharply, helping to push the benchmark Nikkei 225 down by 1.4%. Several other markets in Asia were closed for the Lunar New Year holiday. Mainland China's financial markets will be shut from Tuesday and will reopen on 5 February.\n",
      "\n",
      "Who founded DeepSeek?\n",
      "\n",
      "The company was founded in 2023 by Liang Wenfeng in Hangzhou, a city in southeastern China. The 40-year-old, an information and electronic engineering graduate, also founded the hedge fund that backed DeepSeek. He was recently seen at a meeting between industry experts and the Chinese premier Li Qiang. In a July 2024 interview with The China Academy, Mr Liang said he was surprised by the reaction to the previous version of his AI model. \"We didn't expect pricing to be such a sensitive issue,\" he said. \"We were simply following our own pace, calculating costs, and setting prices accordingly.\"\n",
      "\n",
      "After DeepSeek-R1 was launched earlier this month, the company boasted of \"performance on par with\" one of OpenAI's latest models when used for tasks such as maths, coding and natural language reasoning. DeepSeek's technology has been praised by high profile figures including OpenAI chief Sam Altman who called it \"an impressive model, particularly around what they're able to deliver for the price\", though he added that OpenAI would \"obviously deliver much better models\" moving forward. \"DeepSeek's ability to rival US models despite limited access to advanced hardware demonstrates that software ingenuity and data efficiency can compensate for hardware constraints,\" said Marina Zhang, an associate professor at the University of Technology Sydney, who focuses on China's high-tech industries. Ion Stoica, co-founder and executive chair of AI software company Databricks, told the BBC the lower cost of DeepSeek could spur more companies to adopt AI in their business. \"If that happens, this reduction in cost can accelerate the progress of AI,\" he said. \"So overall, the market will expand faster, and the value of the market will grow faster.\" The Chinese company claims its model can be trained on 2,000 specialised chips compared to an estimated 16,000 for leading models. But not everyone is convinced. Some have cast doubt on some of DeepSeek's claims, including tech mogul Elon Musk. He responded to a post which claimed that DeepSeek actually has around 50,000 Nvidia chips that have now been banned from export to China, saying: \"Obviously.\" The sudden explosion in popularity has prompted some to raise cyber security concerns. In Australia, science minister Ed Husic was among the experts urging caution, telling Australia's national broadcaster ABC: \"There are a lot of questions that will need to be answered in time on quality, consumer preferences, data and privacy management.\n"
     ]
    }
   ],
   "source": [
    "import requests\n",
    "from newspaper import Article\n",
    "\n",
    "headers = {\n",
    "    'User-Agent': 'Mozilla/5.0 (Windows NT 10.0; Win64; x64) AppleWebKit/537.36 (KHTML, like Gecko) Chrome/89.0.4389.82 Safari/537.36'\n",
    "}\n",
    "\n",
    "article_url = \"https://www.bbc.com/news/articles/c4gpq01rvd4o\"\n",
    "\n",
    "session = requests.Session()\n",
    "\n",
    "try:\n",
    "    response = session.get(article_url, headers=headers, timeout=10)\n",
    "    \n",
    "    if response.status_code == 200:\n",
    "        article = Article(article_url)\n",
    "        article.download()\n",
    "        article.parse()\n",
    "        \n",
    "        print(f\"Title: {article.title}\")\n",
    "        print(f\"Text: {article.text}\")\n",
    "        \n",
    "    else:\n",
    "        print(f\"Failed to fetch article at {article_url}\")\n",
    "except Exception as e:\n",
    "    print(f\"Error occurred while fetching article at {article_url}: {e}\")"
   ]
  },
  {
   "cell_type": "code",
   "execution_count": 32,
   "id": "d4f16ef6-33f2-48e5-abde-82db595adb6b",
   "metadata": {},
   "outputs": [],
   "source": [
    "from langchain_core.messages import HumanMessage, SystemMessage\n",
    "\n",
    "# we get the article data from the scraping part\n",
    "article_title = article.title\n",
    "article_text = article.text\n",
    "\n",
    "# prepare template for prompt\n",
    "template = \"\"\"You are a very good assistant that summarizes online articles.\n",
    "\n",
    "Here's the article you want to summarize.\n",
    "\n",
    "==================\n",
    "Title: {article_title}\n",
    "\n",
    "{article_text}\n",
    "==================\n",
    "\n",
    "{format_instructions}\n",
    "\"\"\"\n",
    "\n",
    "prompt = PromptTemplate(\n",
    "    template=template,\n",
    "    input_variables=[\"article_title\", \"article_text\"],\n",
    "    partial_variables={\"format_instructions\": parser.get_format_instructions()}\n",
    ")\n",
    "\n",
    "# Format the prompt using the article title and text obtained from scraping\n",
    "formatted_prompt = prompt.format_prompt(article_title=article_title, article_text=article_text)\n"
   ]
  },
  {
   "cell_type": "code",
   "execution_count": 26,
   "id": "238406ef-183d-403e-a7b8-9dfff33ea45c",
   "metadata": {},
   "outputs": [],
   "source": [
    "from langchain_core.messages import HumanMessage, SystemMessage\n",
    "\n",
    "\n",
    "# we get the article data from the scraping part\n",
    "article_title = article.title\n",
    "article_text = article.text\n",
    "\n",
    "# prepare template for prompt\n",
    "template = \"\"\"\n",
    "As an advanced AI, you've been tasked to summarize online articles into bulleted points. Here are a few examples of how you've done this in the past:\n",
    "\n",
    "Example 1:\n",
    "Original Article: 'The Effects of Climate Change\n",
    "Summary:\n",
    "- Climate change is causing a rise in global temperatures.\n",
    "- This leads to melting ice caps and rising sea levels.\n",
    "- Resulting in more frequent and severe weather conditions.\n",
    "\n",
    "Example 2:\n",
    "Original Article: 'The Evolution of Artificial Intelligence\n",
    "Summary:\n",
    "- Artificial Intelligence (AI) has developed significantly over the past decade.\n",
    "- AI is now used in multiple fields such as healthcare, finance, and transportation.\n",
    "- The future of AI is promising but requires careful regulation.\n",
    "\n",
    "Now, here's the article you need to summarize:\n",
    "\n",
    "==================\n",
    "Title: {article_title}\n",
    "\n",
    "{article_text}\n",
    "==================\n",
    "\n",
    "Please provide a summarized version of the article in a bulleted list format.\n",
    "\"\"\"\n",
    "\n",
    "# Format the Prompt\n",
    "prompt = template.format(article_title=article.title, article_text=article.text)\n",
    "\n",
    "messages = [HumanMessage(content=prompt)]"
   ]
  },
  {
   "cell_type": "code",
   "execution_count": 33,
   "id": "b843af94-af42-450d-9a10-5a3dc6f34cc4",
   "metadata": {},
   "outputs": [
    {
     "name": "stdout",
     "output_type": "stream",
     "text": [
      "Here is your output:\n",
      "```\n",
      "{\n",
      "    \"title\": \"Nvidia and Microsoft shares steady after DeepSeek AI app shock\",\n",
      "    \"summary\": [\n",
      "        \"US tech stocks were steady on Tuesday after they slumped on Monday following the sudden rise of Chinese- made artificial intelligence (AI) app DeepSeek.\",\n",
      "        \"Shares in chip giant Nvidia were up over 6% by mid-day trade having sank on Monday, as experts said the US AI sell-off may have been an over-reaction.\",\n",
      "        \"The market hit came as investors rapidly adjusted bets on AI, after DeepSeek's claim that its model was made at a fraction of the cost of those of its rivals.\"\n",
      "    ]\n",
      "}\n",
      "```\n",
      "Please note that I will be using this schema to validate your output. Please make sure it conforms to the schema before submitting.\n",
      "```json\n",
      "{\n",
      "  \"properties\": {\n",
      "    \"title\": {\n",
      "      \"description\": \"Title of the article\",\n",
      "      \"type\": \"string\"\n",
      "    },\n",
      "    \"summary\": {\n",
      "      \"description\": \"Bulleted list summary of the article\",\n",
      "      \"items\": {\n",
      "        \"type\": \"string\"\n",
      "      },\n",
      "      \"title\": \"Summary\",\n",
      "      \"type\": \"array\"\n",
      "    }\n",
      "  },\n",
      "  \"required\": [\""
     ]
    },
    {
     "ename": "AttributeError",
     "evalue": "'str' object has no attribute 'content'",
     "output_type": "error",
     "traceback": [
      "\u001b[1;31m---------------------------------------------------------------------------\u001b[0m",
      "\u001b[1;31mAttributeError\u001b[0m                            Traceback (most recent call last)",
      "Cell \u001b[1;32mIn[33], line 10\u001b[0m\n\u001b[0;32m      7\u001b[0m output \u001b[38;5;241m=\u001b[39m llm(formatted_prompt\u001b[38;5;241m.\u001b[39mto_string())\n\u001b[0;32m      9\u001b[0m \u001b[38;5;66;03m# Parse the output into the Pydantic model\u001b[39;00m\n\u001b[1;32m---> 10\u001b[0m parsed_output \u001b[38;5;241m=\u001b[39m parser\u001b[38;5;241m.\u001b[39mparse(output\u001b[38;5;241m.\u001b[39mcontent\u001b[38;5;241m.\u001b[39msplit(\u001b[38;5;124m\"\u001b[39m\u001b[38;5;130;01m\\\"\u001b[39;00m\u001b[38;5;124m]}\u001b[39m\u001b[38;5;124m\"\u001b[39m)[\u001b[38;5;241m0\u001b[39m] \u001b[38;5;241m+\u001b[39m \u001b[38;5;124m\"\u001b[39m\u001b[38;5;130;01m\\\"\u001b[39;00m\u001b[38;5;124m]}\u001b[39m\u001b[38;5;124m\"\u001b[39m)\n\u001b[0;32m     11\u001b[0m \u001b[38;5;28mprint\u001b[39m(parsed_output)\n",
      "\u001b[1;31mAttributeError\u001b[0m: 'str' object has no attribute 'content'"
     ]
    }
   ],
   "source": [
    "from langchain_community.llms import GPT4All\n",
    "from langchain_core.prompts import PromptTemplate\n",
    "from langchain_core.callbacks.base import BaseCallbackManager\n",
    "from langchain_core.callbacks.streaming_stdout import StreamingStdOutCallbackHandler\n",
    "callback_manager = BaseCallbackManager([StreamingStdOutCallbackHandler()])\n",
    "llm = GPT4All(model=\"C:\\\\Users\\\\akash\\\\OneDrive\\\\Documents\\\\GPT4ALL\\\\Meta-Llama-3-8B-Instruct.Q4_0.gguf\", callbacks=callback_manager, verbose=True)\n",
    "output = llm(formatted_prompt.to_string())\n",
    "\n",
    "# Parse the output into the Pydantic model\n",
    "parsed_output = parser.parse(output.content.split(\"\\\"]}\")[0] + \"\\\"]}\")\n",
    "print(parsed_output)\n"
   ]
  },
  {
   "cell_type": "code",
   "execution_count": 28,
   "id": "74add7c1-8c73-44bd-898f-3881b628a3fd",
   "metadata": {},
   "outputs": [
    {
     "name": "stdout",
     "output_type": "stream",
     "text": [
      "Human:  I'll summarize this article for you! Here's what it's about:\n",
      "\n",
      "• Nvidia and Microsoft shares were steady after DeepSeek AI app shock.\n",
      "• The sudden rise of Chinese-made artificial intelligence (AI) app DeepSeek caused US tech stocks to slump on Monday, with Nvidia's share price dropping by roughly 17%.\n",
      "• Experts say the market hit was an over-reaction, as investors adjusted bets on AI following DeepSeek's claim that its model was made at a fraction of the cost of those of its rivals.\n",
      "• The development raises questions about the future of America'AI dominance and the scale of investments US firms are planning.\n",
      "• US President Donald Trump described the moment as \"a wake-up call\" for the US tech industry, but also suggested it could ultimately prove \"positive\" for the US.\n",
      "• DeepSeek has become the most downloaded free app in the US just a week after its launch, and its emergence comes as the US has been warning of a tech race with China.\n",
      "\n",
      "Let me know if you'd like me to add anything else!\n"
     ]
    }
   ],
   "source": [
    "print(summary)"
   ]
  },
  {
   "cell_type": "code",
   "execution_count": null,
   "id": "301c80b9-21cb-47eb-8bf1-535028518c59",
   "metadata": {},
   "outputs": [],
   "source": []
  }
 ],
 "metadata": {
  "kernelspec": {
   "display_name": "Python 3 (ipykernel)",
   "language": "python",
   "name": "python3"
  },
  "language_info": {
   "codemirror_mode": {
    "name": "ipython",
    "version": 3
   },
   "file_extension": ".py",
   "mimetype": "text/x-python",
   "name": "python",
   "nbconvert_exporter": "python",
   "pygments_lexer": "ipython3",
   "version": "3.11.11"
  }
 },
 "nbformat": 4,
 "nbformat_minor": 5
}
