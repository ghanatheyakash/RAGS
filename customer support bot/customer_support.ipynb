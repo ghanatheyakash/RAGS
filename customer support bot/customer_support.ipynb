{
 "cells": [
  {
   "cell_type": "code",
   "execution_count": 1,
   "id": "3a3b7569-ec44-445a-b493-ed2fc9812492",
   "metadata": {},
   "outputs": [
    {
     "name": "stderr",
     "output_type": "stream",
     "text": [
      "C:\\Users\\akash\\anaconda3\\envs\\Project_1\\Lib\\site-packages\\deeplake\\util\\check_latest_version.py:32: UserWarning: A newer version of deeplake (4.1.7) is available. It's recommended that you update to the latest version using `pip install -U deeplake`.\n",
      "  warnings.warn(\n"
     ]
    }
   ],
   "source": [
    "import streamlit as st\n",
    "from langchain_ollama import ChatOllama\n",
    "from langchain_core.output_parsers import StrOutputParser\n",
    "from langchain.embeddings.openai import OpenAIEmbeddings\n",
    "from langchain.vectorstores import DeepLake\n",
    "from langchain.text_splitter import CharacterTextSplitter\n",
    "from langchain import OpenAI\n",
    "from langchain.document_loaders import SeleniumURLLoader\n",
    "from langchain import PromptTemplate"
   ]
  },
  {
   "cell_type": "code",
   "execution_count": 2,
   "id": "119ccc98-d91b-4012-a5ff-b18c66030c2a",
   "metadata": {},
   "outputs": [],
   "source": [
    "urls = ['https://www.pcmag.com/how-to/how-to-build-a-pc-the-ultimate-beginners-guide',\n",
    "        'https://www.pcmag.com/how-to/how-to-see-your-frames-per-second-fps-in-games',\n",
    "        'https://www.pcmag.com/how-to/how-to-download-youtube-videos',\n",
    "        'https://www.pcmag.com/how-to/how-to-connect-airpods-to-your-laptop',\n",
    "        'https://www.pcmag.com/how-to/how-to-access-your-wi-fi-routers-settings',\n",
    "        'https://www.geeksforgeeks.org/basic-linux-commands/',\n",
    "       ]"
   ]
  },
  {
   "cell_type": "code",
   "execution_count": 3,
   "id": "cee8f93c-75c5-4a86-8088-ec5e13b304f8",
   "metadata": {},
   "outputs": [
    {
     "name": "stderr",
     "output_type": "stream",
     "text": [
      "Created a chunk of size 1598, which is longer than the specified 1000\n"
     ]
    }
   ],
   "source": [
    "loader = SeleniumURLLoader(urls=urls)\n",
    "docs_not_splitted = loader.load()\n",
    "\n",
    "# we split the documents into smaller chunks\n",
    "text_splitter = CharacterTextSplitter(chunk_size=1000, chunk_overlap=0)\n",
    "docs = text_splitter.split_documents(docs_not_splitted)"
   ]
  },
  {
   "cell_type": "code",
   "execution_count": 4,
   "id": "69e2802d-d72d-4b7e-bff8-71517530ff8c",
   "metadata": {},
   "outputs": [
    {
     "name": "stderr",
     "output_type": "stream",
     "text": [
      "C:\\Users\\akash\\AppData\\Local\\Temp\\ipykernel_26404\\2314071788.py:3: LangChainDeprecationWarning: The class `HuggingFaceEmbeddings` was deprecated in LangChain 0.2.2 and will be removed in 1.0. An updated version of the class exists in the :class:`~langchain-huggingface package and should be used instead. To use it run `pip install -U :class:`~langchain-huggingface` and import as `from :class:`~langchain_huggingface import HuggingFaceEmbeddings``.\n",
      "  embeddings = HuggingFaceEmbeddings(model_name=\"sentence-transformers/all-MiniLM-L6-v2\")\n",
      "C:\\Users\\akash\\anaconda3\\envs\\Project_1\\Lib\\site-packages\\tqdm\\auto.py:21: TqdmWarning: IProgress not found. Please update jupyter and ipywidgets. See https://ipywidgets.readthedocs.io/en/stable/user_install.html\n",
      "  from .autonotebook import tqdm as notebook_tqdm\n"
     ]
    },
    {
     "name": "stdout",
     "output_type": "stream",
     "text": [
      "WARNING:tensorflow:From C:\\Users\\akash\\anaconda3\\envs\\Project_1\\Lib\\site-packages\\tf_keras\\src\\losses.py:2976: The name tf.losses.sparse_softmax_cross_entropy is deprecated. Please use tf.compat.v1.losses.sparse_softmax_cross_entropy instead.\n",
      "\n"
     ]
    },
    {
     "name": "stderr",
     "output_type": "stream",
     "text": [
      "Using embedding function is deprecated and will be removed in the future. Please use embedding instead.\n"
     ]
    },
    {
     "name": "stdout",
     "output_type": "stream",
     "text": [
      "Deep Lake Dataset in hub://akashghanathey/langchain_course_customer_support already exists, loading from the storage\n"
     ]
    }
   ],
   "source": [
    "from langchain.embeddings import HuggingFaceEmbeddings\n",
    "\n",
    "embeddings = HuggingFaceEmbeddings(model_name=\"sentence-transformers/all-MiniLM-L6-v2\")\n",
    "from dotenv import load_dotenv\n",
    "import os\n",
    "\n",
    "load_dotenv(\"keys.env\") \n",
    "ACTIVELOOP_TOKEN= os.getenv(\"ACTIVELOOP_TOKEN\")\n",
    "\n",
    "# create Deep Lake dataset\n",
    "# TODO: use your organization id here. (by default, org id is your username)\n",
    "my_activeloop_org_id = \"akashghanathey\"\n",
    "my_activeloop_dataset_name = \"langchain_course_customer_support\"\n",
    "dataset_path = f\"hub://{my_activeloop_org_id}/{my_activeloop_dataset_name}\"\n",
    "db = DeepLake(dataset_path=dataset_path, embedding_function=embeddings)\n",
    "\n",
    "# add documents to our Deep Lake dataset\n",
    "#db.add_documents(docs)"
   ]
  },
  {
   "cell_type": "code",
   "execution_count": 5,
   "id": "c5582259-ffbe-4254-a391-496667555dbd",
   "metadata": {},
   "outputs": [
    {
     "name": "stdout",
     "output_type": "stream",
     "text": [
      "Here we have put all Basic Linux Commands that every Linux user (as a beginner in 2025) should know. These are not all that you should know, but these are the basic and most commonly used commands.\n"
     ]
    }
   ],
   "source": [
    "query = \"Can you give me few linux commands\"\n",
    "docs = db.similarity_search(query)\n",
    "print(docs[0].page_content)"
   ]
  },
  {
   "cell_type": "code",
   "execution_count": 6,
   "id": "f2375202-a757-421c-9286-6c3e97ffa243",
   "metadata": {},
   "outputs": [],
   "source": [
    "template = \"\"\"You are an exceptional customer support chatbot that gently answer questions.\n",
    "\n",
    "You know the following context information.\n",
    "\n",
    "{chunks_formatted}\n",
    "\n",
    "Answer to the following question from a customer. Use only information from the previous context information. Do not invent stuff.\n",
    "\n",
    "Question: {query}\n",
    "\n",
    "Answer:\"\"\"\n",
    "\n",
    "prompt = PromptTemplate(\n",
    "    input_variables=[\"chunks_formatted\", \"query\"],\n",
    "    template=template,\n",
    ")"
   ]
  },
  {
   "cell_type": "code",
   "execution_count": 7,
   "id": "808b3b1e-d4a1-4018-85b0-183cb4ed105c",
   "metadata": {},
   "outputs": [],
   "source": [
    "query = \"How to check disk usage in linux?\"\n",
    "\n",
    "# retrieve relevant chunks\n",
    "docs = db.similarity_search(query)\n",
    "retrieved_chunks = [doc.page_content for doc in docs]\n",
    "\n",
    "# format the prompt\n",
    "chunks_formatted = \"\\n\\n\".join(retrieved_chunks)\n",
    "prompt_formatted = prompt.format(chunks_formatted=chunks_formatted, query=query)\n",
    "\n",
    "# generate answer\n",
    "llm_engine=ChatOllama(\n",
    "    model=\"deepseek-r1:14b\",\n",
    "    temperature=0.3\n",
    ")"
   ]
  },
  {
   "cell_type": "code",
   "execution_count": 8,
   "id": "a5617a9c-7b7d-4da0-b92c-832f0b735c4e",
   "metadata": {},
   "outputs": [
    {
     "name": "stdout",
     "output_type": "stream",
     "text": [
      "content='<think>\\nOkay, so I need to figure out how to answer the question \"How to check disk usage in Linux?\" based on the provided context. Let me go through the context step by step.\\n\\nLooking at the context, there\\'s a section about the \\'df\\' command. It says that df stands for \"disk free\" and it\\'s used to get details about the file system. The example shows using \\'df -h\\', which makes the output more readable in human-readable format, like showing sizes in MB or GB instead of bytes.\\n\\nI remember seeing other commands like \\'du\\' mentioned elsewhere, but in this context, only \\'df\\' is discussed for disk usage. So I should focus on that. The answer should mention using \\'df -h\\' to display the disk space information in a user-friendly way.\\n\\nWait, does the context explicitly say that \\'df\\' checks disk usage? Yes, it says \"df command in Linux gets the details of the file system.\" So that\\'s exactly what is needed for checking disk usage. I should explain how using \\'df -h\\' provides a clear overview of disk space.\\n\\nI think the answer should be straightforward: use the df command with the \\'-h\\' option to view disk usage in a readable format. That\\'s all based on the given context, so no need to add anything else.\\n</think>\\n\\nTo check disk usage in Linux, you can use the `df` command along with the `-h` option for a human-readable output. Here\\'s how:\\n\\n1. Open your terminal.\\n2. Type the following command:\\n   ```bash\\n   df -h\\n   ```\\n3. Press Enter to execute the command.\\n\\nThis will display information about your disk space usage in a user-friendly format, showing the file system, total size, used space, available space, and the percentage of disk used. The `-h` option stands for \"human-readable,\" making the output easier to understand by displaying sizes in units like MB or GB instead of bytes.\\n\\nFor example, the output might look like this:\\n\\n```\\nFilesystem      Size  Used Available Use% Mounted on\\n/dev/sda1        50G   20G     30G    40% /\\n```\\n\\nThis shows that the root directory (/) is using 40% of its 50GB disk space.' additional_kwargs={} response_metadata={'model': 'deepseek-r1:14b', 'created_at': '2025-02-19T21:01:22.7321154Z', 'done': True, 'done_reason': 'stop', 'total_duration': 46046729300, 'load_duration': 8033144200, 'prompt_eval_count': 970, 'prompt_eval_duration': 2455000000, 'eval_count': 479, 'eval_duration': 35556000000, 'message': Message(role='assistant', content='', images=None, tool_calls=None)} id='run-27451ea8-2fc5-472b-8614-312af7b938b8-0' usage_metadata={'input_tokens': 970, 'output_tokens': 479, 'total_tokens': 1449}\n"
     ]
    }
   ],
   "source": [
    "answer = llm_engine.invoke(prompt_formatted)\n",
    "print(answer)"
   ]
  },
  {
   "cell_type": "code",
   "execution_count": 9,
   "id": "b5579301-af97-4980-9a37-b5c3c1fa7340",
   "metadata": {},
   "outputs": [
    {
     "name": "stdout",
     "output_type": "stream",
     "text": [
      "[Document(metadata={'source': 'https://www.geeksforgeeks.org/basic-linux-commands/', 'title': '25 Basic Linux Commands For Beginners [2025] - GeeksforGeeks', 'description': 'Basic Linux commands are essential for beginners to efficiently perform tasks and manage files in a Linux-based operating system.', 'language': 'en-US'}, page_content='25 Most-Commonly Used Linux Commands\\n\\n1. Is command in Linux\\n\\nThe ls command is commonly used to identify the files and directories in the working directory. This command is one of the many often-used Linux commands that you should know.\\n\\nThis command can be used by itself without any arguments and it will provide us the output with all the details about the files and the directories in the current working directory. There is a lot of flexibility offered by this command in terms of displaying data in the output. Check the below image for the output.\\n\\n2. pwd command in Linux\\n\\nThe pwd command is mostly used to print the current working directory on your terminal. It is also one of the most commonly used commands.'), Document(metadata={'source': 'https://www.geeksforgeeks.org/basic-linux-commands/', 'title': '25 Basic Linux Commands For Beginners [2025] - GeeksforGeeks', 'description': 'Basic Linux commands are essential for beginners to efficiently perform tasks and manage files in a Linux-based operating system.', 'language': 'en-US'}, page_content='wc -m shows the number of characters present in a file\\n\\nLet’s see one example of these options\\n\\nCommand:\\n\\nOutput:\\n\\nHere we used the touch command to create a text file and then used the echo command to input a sentence that contains six words and we used the wc -w command to calculate the number of words in it.\\n\\nBasic Linux Commands – FAQs\\n\\nWhat are the most basic Linux Commands to learn for beginners?\\n\\nHere is a list of 10 basic Linux Commands to learn for beginners, along with their functions.\\n\\nLinux Commands Functions Is Displays information about files in the current directory. pwd Displays the current working directory. mkdir Creates a directory. cd To navigate between different folders. rmdir Removes empty directories from the directory lists. cp Moves files from one directory to another. mv Rename and Replace the files rm Delete files uname Command to get basic information about the OS locate Find a file in the database.\\n\\nHow do I view files in a Linux Directory?'), Document(metadata={'source': 'https://www.geeksforgeeks.org/basic-linux-commands/', 'title': '25 Basic Linux Commands For Beginners [2025] - GeeksforGeeks', 'description': 'Basic Linux commands are essential for beginners to efficiently perform tasks and manage files in a Linux-based operating system.', 'language': 'en-US'}, page_content='Here first we checked the file content using the cat command and then we sorted it alphabetically using the sort command.\\n\\n22. cal command in Linux\\n\\nThe cal command is not the most famous command in the terminal but it functions to view the calendar for a particular month in the terminal. Let’s see how this works.\\n\\nCommand:\\n\\nOutput:\\n\\n23. whereis command in Linux\\n\\nwhereis command in Linux is generally used to see the exact location of any command typed after this. Let’s see how this performs.\\n\\nCommand:\\n\\nOutput:\\n\\n24. df command in Linux\\n\\ndf command in Linux gets the details of the file system.\\n\\nCommand:\\n\\nOutput:\\n\\nHere we have used df -h as simply typing df will return the output in bytes which is not readable, so we add -h to make the outputs more readable and understandable.\\n\\n25. wc command in Linux\\n\\nwc command in Linux indicates the number of words, characters, lines, etc using a set of options.\\n\\nwc -w shows the number of words\\n\\nwc -l shows the number of lines'), Document(metadata={'source': 'https://www.geeksforgeeks.org/basic-linux-commands/', 'title': '25 Basic Linux Commands For Beginners [2025] - GeeksforGeeks', 'description': 'Basic Linux commands are essential for beginners to efficiently perform tasks and manage files in a Linux-based operating system.', 'language': 'en-US'}, page_content='Basic Linux Terminal Commands Linux Commands Functions 1. Is command in Linux Displays information about files in the current directory. 2. pwd command in Linux Displays the current working directory. 3. mkdir command in Linux Creates a directory. 4. cd command in Linux To navigate between different folders. 5. rmdir command in Linux Removes empty directories from the directory lists. 6. cp command in Linux Copy files from one directory to another. 7. mv command in Linux Rename and Replace the files 8. rm command in Linux Delete files 9. uname command in Linux Command to get basic information about the OS 10. locate command in Linux Find a file in the database. 11. touch command in Linux Create empty files 12. ln command in Linux Create shortcuts to other files 13. cat command in Linux Display file contents on terminal 14. clear command in Linux Clear terminal 15. ps command in Linux Display the processes in terminal 16. man command in Linux Access manual for all Linux commands 17. grep command in Linux Search for a specific string in an output 18. echo command in Linux Print string or text to the terminal 19. wget command in Linux download files from the internet. 20. whoami command in Linux Displays the current users name 21. sort command in Linux sort the file content 22. cal command in Linux View Calendar in terminal 23. whereis command in Linux View the exact location of any command typed after this command 24. df command in Linux Check the details of the file system 25. wc command in Linux Check the lines, word count, and characters in a file using different options')]\n"
     ]
    }
   ],
   "source": [
    "print(docs)"
   ]
  },
  {
   "cell_type": "code",
   "execution_count": 10,
   "id": "f10165ef-09d9-4015-9b90-b02d701f63f5",
   "metadata": {},
   "outputs": [
    {
     "name": "stdout",
     "output_type": "stream",
     "text": [
      "25 Most-Commonly Used Linux Commands\n",
      "\n",
      "1. Is command in Linux\n",
      "\n",
      "The ls command is commonly used to identify the files and directories in the working directory. This command is one of the many often-used Linux commands that you should know.\n",
      "\n",
      "This command can be used by itself without any arguments and it will provide us the output with all the details about the files and the directories in the current working directory. There is a lot of flexibility offered by this command in terms of displaying data in the output. Check the below image for the output.\n",
      "\n",
      "2. pwd command in Linux\n",
      "\n",
      "The pwd command is mostly used to print the current working directory on your terminal. It is also one of the most commonly used commands.\n",
      "\n",
      "wc -m shows the number of characters present in a file\n",
      "\n",
      "Let’s see one example of these options\n",
      "\n",
      "Command:\n",
      "\n",
      "Output:\n",
      "\n",
      "Here we used the touch command to create a text file and then used the echo command to input a sentence that contains six words and we used the wc -w command to calculate the number of words in it.\n",
      "\n",
      "Basic Linux Commands – FAQs\n",
      "\n",
      "What are the most basic Linux Commands to learn for beginners?\n",
      "\n",
      "Here is a list of 10 basic Linux Commands to learn for beginners, along with their functions.\n",
      "\n",
      "Linux Commands Functions Is Displays information about files in the current directory. pwd Displays the current working directory. mkdir Creates a directory. cd To navigate between different folders. rmdir Removes empty directories from the directory lists. cp Moves files from one directory to another. mv Rename and Replace the files rm Delete files uname Command to get basic information about the OS locate Find a file in the database.\n",
      "\n",
      "How do I view files in a Linux Directory?\n",
      "\n",
      "Here first we checked the file content using the cat command and then we sorted it alphabetically using the sort command.\n",
      "\n",
      "22. cal command in Linux\n",
      "\n",
      "The cal command is not the most famous command in the terminal but it functions to view the calendar for a particular month in the terminal. Let’s see how this works.\n",
      "\n",
      "Command:\n",
      "\n",
      "Output:\n",
      "\n",
      "23. whereis command in Linux\n",
      "\n",
      "whereis command in Linux is generally used to see the exact location of any command typed after this. Let’s see how this performs.\n",
      "\n",
      "Command:\n",
      "\n",
      "Output:\n",
      "\n",
      "24. df command in Linux\n",
      "\n",
      "df command in Linux gets the details of the file system.\n",
      "\n",
      "Command:\n",
      "\n",
      "Output:\n",
      "\n",
      "Here we have used df -h as simply typing df will return the output in bytes which is not readable, so we add -h to make the outputs more readable and understandable.\n",
      "\n",
      "25. wc command in Linux\n",
      "\n",
      "wc command in Linux indicates the number of words, characters, lines, etc using a set of options.\n",
      "\n",
      "wc -w shows the number of words\n",
      "\n",
      "wc -l shows the number of lines\n",
      "\n",
      "Basic Linux Terminal Commands Linux Commands Functions 1. Is command in Linux Displays information about files in the current directory. 2. pwd command in Linux Displays the current working directory. 3. mkdir command in Linux Creates a directory. 4. cd command in Linux To navigate between different folders. 5. rmdir command in Linux Removes empty directories from the directory lists. 6. cp command in Linux Copy files from one directory to another. 7. mv command in Linux Rename and Replace the files 8. rm command in Linux Delete files 9. uname command in Linux Command to get basic information about the OS 10. locate command in Linux Find a file in the database. 11. touch command in Linux Create empty files 12. ln command in Linux Create shortcuts to other files 13. cat command in Linux Display file contents on terminal 14. clear command in Linux Clear terminal 15. ps command in Linux Display the processes in terminal 16. man command in Linux Access manual for all Linux commands 17. grep command in Linux Search for a specific string in an output 18. echo command in Linux Print string or text to the terminal 19. wget command in Linux download files from the internet. 20. whoami command in Linux Displays the current users name 21. sort command in Linux sort the file content 22. cal command in Linux View Calendar in terminal 23. whereis command in Linux View the exact location of any command typed after this command 24. df command in Linux Check the details of the file system 25. wc command in Linux Check the lines, word count, and characters in a file using different options\n"
     ]
    }
   ],
   "source": [
    "print(chunks_formatted)"
   ]
  },
  {
   "cell_type": "code",
   "execution_count": null,
   "id": "39dfb454-23a2-4222-a580-1462c2c81bf2",
   "metadata": {},
   "outputs": [],
   "source": []
  }
 ],
 "metadata": {
  "kernelspec": {
   "display_name": "Python 3 (ipykernel)",
   "language": "python",
   "name": "python3"
  },
  "language_info": {
   "codemirror_mode": {
    "name": "ipython",
    "version": 3
   },
   "file_extension": ".py",
   "mimetype": "text/x-python",
   "name": "python",
   "nbconvert_exporter": "python",
   "pygments_lexer": "ipython3",
   "version": "3.11.11"
  }
 },
 "nbformat": 4,
 "nbformat_minor": 5
}
